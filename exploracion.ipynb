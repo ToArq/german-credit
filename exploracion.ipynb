{
 "cells": [
  {
   "cell_type": "code",
   "execution_count": 66,
   "id": "5fb41bcc",
   "metadata": {},
   "outputs": [],
   "source": [
    "import pandas as pd\n",
    "import seaborn as sns\n",
    "import numpy as np\n",
    "from sklearn.model_selection import train_test_split\n",
    "#new commit\n",
    "#new 02\n",
    "#new new\n"
   ]
  },
  {
   "cell_type": "code",
   "execution_count": 10,
   "id": "fd1dd0d5",
   "metadata": {},
   "outputs": [],
   "source": [
    "df = pd.read_csv(\"s3://david-credit-221001/datos/original/david_credit_data.csv\",  index_col=0)"
   ]
  },
  {
   "cell_type": "code",
   "execution_count": 19,
   "id": "9fae6154",
   "metadata": {},
   "outputs": [
    {
     "data": {
      "text/plain": [
       "good    0.7\n",
       "bad     0.3\n",
       "Name: Risk, dtype: float64"
      ]
     },
     "execution_count": 19,
     "metadata": {},
     "output_type": "execute_result"
    }
   ],
   "source": [
    "df['Risk'].value_counts()/df['Risk'].count()"
   ]
  },
  {
   "cell_type": "code",
   "execution_count": 21,
   "id": "ab3dc904",
   "metadata": {},
   "outputs": [],
   "source": [
    "train, test = train_test_split(df, test_size=0.3, \n",
    "                               random_state=42,\n",
    "                              stratify=df['Risk'])"
   ]
  },
  {
   "cell_type": "code",
   "execution_count": 22,
   "id": "bba9506c",
   "metadata": {},
   "outputs": [
    {
     "data": {
      "text/plain": [
       "good    0.7\n",
       "bad     0.3\n",
       "Name: Risk, dtype: float64"
      ]
     },
     "execution_count": 22,
     "metadata": {},
     "output_type": "execute_result"
    }
   ],
   "source": [
    "test['Risk'].value_counts()/test['Risk'].count()"
   ]
  },
  {
   "cell_type": "code",
   "execution_count": 26,
   "id": "bb8c8f09",
   "metadata": {},
   "outputs": [],
   "source": [
    "train.to_csv(\"s3://david-credit-221001/datos/train/train.csv\", index=False)"
   ]
  },
  {
   "cell_type": "code",
   "execution_count": 24,
   "id": "913f88db",
   "metadata": {},
   "outputs": [],
   "source": [
    "test.to_csv(\"s3://david-credit-221001/datos/test/test.csv\", index=False)"
   ]
  },
  {
   "cell_type": "code",
   "execution_count": 36,
   "id": "bc850597",
   "metadata": {},
   "outputs": [
    {
     "data": {
      "text/plain": [
       "Index(['Age', 'Sex', 'Job', 'Housing', 'Saving accounts', 'Checking account',\n",
       "       'Credit amount', 'Duration', 'Purpose', 'Risk'],\n",
       "      dtype='object')"
      ]
     },
     "execution_count": 36,
     "metadata": {},
     "output_type": "execute_result"
    }
   ],
   "source": [
    "train.columns"
   ]
  },
  {
   "cell_type": "code",
   "execution_count": 37,
   "id": "82f40876",
   "metadata": {},
   "outputs": [
    {
     "data": {
      "text/html": [
       "<div>\n",
       "<style scoped>\n",
       "    .dataframe tbody tr th:only-of-type {\n",
       "        vertical-align: middle;\n",
       "    }\n",
       "\n",
       "    .dataframe tbody tr th {\n",
       "        vertical-align: top;\n",
       "    }\n",
       "\n",
       "    .dataframe thead th {\n",
       "        text-align: right;\n",
       "    }\n",
       "</style>\n",
       "<table border=\"1\" class=\"dataframe\">\n",
       "  <thead>\n",
       "    <tr style=\"text-align: right;\">\n",
       "      <th></th>\n",
       "      <th>Age</th>\n",
       "      <th>Sex</th>\n",
       "      <th>Job</th>\n",
       "      <th>Housing</th>\n",
       "      <th>Saving accounts</th>\n",
       "      <th>Checking account</th>\n",
       "      <th>Credit amount</th>\n",
       "      <th>Duration</th>\n",
       "      <th>Purpose</th>\n",
       "      <th>Risk</th>\n",
       "    </tr>\n",
       "  </thead>\n",
       "  <tbody>\n",
       "    <tr>\n",
       "      <th>328</th>\n",
       "      <td>31</td>\n",
       "      <td>male</td>\n",
       "      <td>2</td>\n",
       "      <td>own</td>\n",
       "      <td>little</td>\n",
       "      <td>rich</td>\n",
       "      <td>4473</td>\n",
       "      <td>36</td>\n",
       "      <td>radio/TV</td>\n",
       "      <td>good</td>\n",
       "    </tr>\n",
       "    <tr>\n",
       "      <th>891</th>\n",
       "      <td>46</td>\n",
       "      <td>male</td>\n",
       "      <td>2</td>\n",
       "      <td>own</td>\n",
       "      <td>little</td>\n",
       "      <td>NaN</td>\n",
       "      <td>1829</td>\n",
       "      <td>15</td>\n",
       "      <td>radio/TV</td>\n",
       "      <td>good</td>\n",
       "    </tr>\n",
       "    <tr>\n",
       "      <th>255</th>\n",
       "      <td>27</td>\n",
       "      <td>male</td>\n",
       "      <td>1</td>\n",
       "      <td>own</td>\n",
       "      <td>NaN</td>\n",
       "      <td>moderate</td>\n",
       "      <td>7418</td>\n",
       "      <td>60</td>\n",
       "      <td>radio/TV</td>\n",
       "      <td>good</td>\n",
       "    </tr>\n",
       "    <tr>\n",
       "      <th>243</th>\n",
       "      <td>27</td>\n",
       "      <td>female</td>\n",
       "      <td>2</td>\n",
       "      <td>own</td>\n",
       "      <td>little</td>\n",
       "      <td>NaN</td>\n",
       "      <td>1185</td>\n",
       "      <td>12</td>\n",
       "      <td>business</td>\n",
       "      <td>good</td>\n",
       "    </tr>\n",
       "    <tr>\n",
       "      <th>492</th>\n",
       "      <td>27</td>\n",
       "      <td>female</td>\n",
       "      <td>2</td>\n",
       "      <td>own</td>\n",
       "      <td>moderate</td>\n",
       "      <td>NaN</td>\n",
       "      <td>1237</td>\n",
       "      <td>6</td>\n",
       "      <td>radio/TV</td>\n",
       "      <td>good</td>\n",
       "    </tr>\n",
       "  </tbody>\n",
       "</table>\n",
       "</div>"
      ],
      "text/plain": [
       "     Age     Sex  Job Housing Saving accounts Checking account  Credit amount  \\\n",
       "328   31    male    2     own          little             rich           4473   \n",
       "891   46    male    2     own          little              NaN           1829   \n",
       "255   27    male    1     own             NaN         moderate           7418   \n",
       "243   27  female    2     own          little              NaN           1185   \n",
       "492   27  female    2     own        moderate              NaN           1237   \n",
       "\n",
       "     Duration   Purpose  Risk  \n",
       "328        36  radio/TV  good  \n",
       "891        15  radio/TV  good  \n",
       "255        60  radio/TV  good  \n",
       "243        12  business  good  \n",
       "492         6  radio/TV  good  "
      ]
     },
     "execution_count": 37,
     "metadata": {},
     "output_type": "execute_result"
    }
   ],
   "source": [
    "train.head()"
   ]
  },
  {
   "cell_type": "code",
   "execution_count": 40,
   "id": "43ea2254",
   "metadata": {},
   "outputs": [
    {
     "data": {
      "text/plain": [
       "<seaborn.axisgrid.JointGrid at 0x7fe741eeebb0>"
      ]
     },
     "execution_count": 40,
     "metadata": {},
     "output_type": "execute_result"
    },
    {
     "data": {
      "image/png": "[encoded data removed]",
      "text/plain": [
       "<Figure size 432x432 with 3 Axes>"
      ]
     },
     "metadata": {
      "needs_background": "light"
     },
     "output_type": "display_data"
    }
   ],
   "source": [
    "sns.jointplot(x = \"Credit amount\", y = \"Duration\", data = train,kind='reg')"
   ]
  },
  {
   "cell_type": "code",
   "execution_count": 41,
   "id": "428b6dda",
   "metadata": {},
   "outputs": [
    {
     "data": {
      "text/plain": [
       "<seaborn.axisgrid.JointGrid at 0x7fe741d7dbb0>"
      ]
     },
     "execution_count": 41,
     "metadata": {},
     "output_type": "execute_result"
    },
    {
     "data": {
      "image/png": "[encoded data removed]",
      "text/plain": [
       "<Figure size 432x432 with 3 Axes>"
      ]
     },
     "metadata": {
      "needs_background": "light"
     },
     "output_type": "display_data"
    }
   ],
   "source": [
    "sns.jointplot(x = \"Credit amount\", y = \"Age\", data = train,kind='reg')"
   ]
  },
  {
   "cell_type": "code",
   "execution_count": 39,
   "id": "411401fe",
   "metadata": {},
   "outputs": [
    {
     "data": {
      "text/plain": [
       "<seaborn.axisgrid.JointGrid at 0x7fe74c9c4070>"
      ]
     },
     "execution_count": 39,
     "metadata": {},
     "output_type": "execute_result"
    },
    {
     "data": {
      "image/png": "[encoded data removed]",
      "text/plain": [
       "<Figure size 432x432 with 3 Axes>"
      ]
     },
     "metadata": {
      "needs_background": "light"
     },
     "output_type": "display_data"
    }
   ],
   "source": [
    "sns.jointplot(x = \"Duration\", y = \"Age\", data = train)"
   ]
  },
  {
   "cell_type": "code",
   "execution_count": 42,
   "id": "ebe5c56e",
   "metadata": {},
   "outputs": [
    {
     "data": {
      "text/plain": [
       "<seaborn.axisgrid.PairGrid at 0x7fe74198dcd0>"
      ]
     },
     "execution_count": 42,
     "metadata": {},
     "output_type": "execute_result"
    },
    {
     "data": {
      "image/png": "[encoded data removed]",
      "text/plain": [
       "<Figure size 720x720 with 20 Axes>"
      ]
     },
     "metadata": {
      "needs_background": "light"
     },
     "output_type": "display_data"
    }
   ],
   "source": [
    "sns.pairplot(train)"
   ]
  },
  {
   "cell_type": "code",
   "execution_count": 49,
   "id": "74f394e5",
   "metadata": {},
   "outputs": [],
   "source": [
    "table_sex =pd.crosstab(index=train['Sex'], columns=train['Risk'], margins= True)"
   ]
  },
  {
   "cell_type": "code",
   "execution_count": 52,
   "id": "783ab1ee",
   "metadata": {},
   "outputs": [
    {
     "data": {
      "text/html": [
       "<div>\n",
       "<style scoped>\n",
       "    .dataframe tbody tr th:only-of-type {\n",
       "        vertical-align: middle;\n",
       "    }\n",
       "\n",
       "    .dataframe tbody tr th {\n",
       "        vertical-align: top;\n",
       "    }\n",
       "\n",
       "    .dataframe thead th {\n",
       "        text-align: right;\n",
       "    }\n",
       "</style>\n",
       "<table border=\"1\" class=\"dataframe\">\n",
       "  <thead>\n",
       "    <tr style=\"text-align: right;\">\n",
       "      <th>Risk</th>\n",
       "      <th>bad</th>\n",
       "      <th>good</th>\n",
       "      <th>All</th>\n",
       "      <th>prob</th>\n",
       "    </tr>\n",
       "    <tr>\n",
       "      <th>Sex</th>\n",
       "      <th></th>\n",
       "      <th></th>\n",
       "      <th></th>\n",
       "      <th></th>\n",
       "    </tr>\n",
       "  </thead>\n",
       "  <tbody>\n",
       "    <tr>\n",
       "      <th>female</th>\n",
       "      <td>76</td>\n",
       "      <td>138</td>\n",
       "      <td>214</td>\n",
       "      <td>0.64486</td>\n",
       "    </tr>\n",
       "    <tr>\n",
       "      <th>male</th>\n",
       "      <td>134</td>\n",
       "      <td>352</td>\n",
       "      <td>486</td>\n",
       "      <td>0.72428</td>\n",
       "    </tr>\n",
       "    <tr>\n",
       "      <th>All</th>\n",
       "      <td>210</td>\n",
       "      <td>490</td>\n",
       "      <td>700</td>\n",
       "      <td>0.70000</td>\n",
       "    </tr>\n",
       "  </tbody>\n",
       "</table>\n",
       "</div>"
      ],
      "text/plain": [
       "Risk    bad  good  All     prob\n",
       "Sex                            \n",
       "female   76   138  214  0.64486\n",
       "male    134   352  486  0.72428\n",
       "All     210   490  700  0.70000"
      ]
     },
     "execution_count": 52,
     "metadata": {},
     "output_type": "execute_result"
    }
   ],
   "source": [
    "table_sex['prob'] = table_sex.iloc[:,1]/table_sex.iloc[:,2]\n",
    "table_sex"
   ]
  },
  {
   "cell_type": "code",
   "execution_count": 54,
   "id": "6dfec316",
   "metadata": {},
   "outputs": [
    {
     "data": {
      "text/html": [
       "<div>\n",
       "<style scoped>\n",
       "    .dataframe tbody tr th:only-of-type {\n",
       "        vertical-align: middle;\n",
       "    }\n",
       "\n",
       "    .dataframe tbody tr th {\n",
       "        vertical-align: top;\n",
       "    }\n",
       "\n",
       "    .dataframe thead th {\n",
       "        text-align: right;\n",
       "    }\n",
       "</style>\n",
       "<table border=\"1\" class=\"dataframe\">\n",
       "  <thead>\n",
       "    <tr style=\"text-align: right;\">\n",
       "      <th>Risk</th>\n",
       "      <th>bad</th>\n",
       "      <th>good</th>\n",
       "      <th>All</th>\n",
       "      <th>prob</th>\n",
       "    </tr>\n",
       "    <tr>\n",
       "      <th>Housing</th>\n",
       "      <th></th>\n",
       "      <th></th>\n",
       "      <th></th>\n",
       "      <th></th>\n",
       "    </tr>\n",
       "  </thead>\n",
       "  <tbody>\n",
       "    <tr>\n",
       "      <th>free</th>\n",
       "      <td>29</td>\n",
       "      <td>45</td>\n",
       "      <td>74</td>\n",
       "      <td>0.608108</td>\n",
       "    </tr>\n",
       "    <tr>\n",
       "      <th>own</th>\n",
       "      <td>133</td>\n",
       "      <td>371</td>\n",
       "      <td>504</td>\n",
       "      <td>0.736111</td>\n",
       "    </tr>\n",
       "    <tr>\n",
       "      <th>rent</th>\n",
       "      <td>48</td>\n",
       "      <td>74</td>\n",
       "      <td>122</td>\n",
       "      <td>0.606557</td>\n",
       "    </tr>\n",
       "    <tr>\n",
       "      <th>All</th>\n",
       "      <td>210</td>\n",
       "      <td>490</td>\n",
       "      <td>700</td>\n",
       "      <td>0.700000</td>\n",
       "    </tr>\n",
       "  </tbody>\n",
       "</table>\n",
       "</div>"
      ],
      "text/plain": [
       "Risk     bad  good  All      prob\n",
       "Housing                          \n",
       "free      29    45   74  0.608108\n",
       "own      133   371  504  0.736111\n",
       "rent      48    74  122  0.606557\n",
       "All      210   490  700  0.700000"
      ]
     },
     "execution_count": 54,
     "metadata": {},
     "output_type": "execute_result"
    }
   ],
   "source": [
    "table_housing =pd.crosstab(index=train['Housing'], columns=train['Risk'], margins= True)\n",
    "table_housing['prob'] = table_housing.iloc[:,1]/table_housing.iloc[:,2]\n",
    "table_housing"
   ]
  },
  {
   "cell_type": "code",
   "execution_count": 57,
   "id": "c3634bcd",
   "metadata": {},
   "outputs": [],
   "source": [
    "table_age =pd.crosstab(index=train['Age'], columns=train['Risk'], margins= True)\n",
    "table_age['prob'] = table_age.iloc[:,1]/table_age.iloc[:,2]\n",
    "#table_age"
   ]
  },
  {
   "cell_type": "markdown",
   "id": "4b40c2f4",
   "metadata": {},
   "source": [
    "# Preprocesamiento"
   ]
  },
  {
   "cell_type": "code",
   "execution_count": null,
   "id": "ab97f76e",
   "metadata": {},
   "outputs": [],
   "source": [
    "#Formas de imputación"
   ]
  },
  {
   "cell_type": "code",
   "execution_count": 58,
   "id": "c3b58d5a",
   "metadata": {},
   "outputs": [],
   "source": [
    "from sklearn.impute import SimpleImputer"
   ]
  },
  {
   "cell_type": "code",
   "execution_count": 60,
   "id": "7442400e",
   "metadata": {},
   "outputs": [],
   "source": [
    "X_train = train[['Age', 'Credit amount', 'Duration']]"
   ]
  },
  {
   "cell_type": "code",
   "execution_count": 61,
   "id": "085a5981",
   "metadata": {},
   "outputs": [],
   "source": [
    "imputer = SimpleImputer(strategy='mean')"
   ]
  },
  {
   "cell_type": "code",
   "execution_count": 62,
   "id": "bbbccb69",
   "metadata": {},
   "outputs": [
    {
     "data": {
      "text/plain": [
       "SimpleImputer()"
      ]
     },
     "execution_count": 62,
     "metadata": {},
     "output_type": "execute_result"
    }
   ],
   "source": [
    "imputer.fit(X_train)"
   ]
  },
  {
   "cell_type": "code",
   "execution_count": 65,
   "id": "cd542306",
   "metadata": {},
   "outputs": [
    {
     "data": {
      "text/plain": [
       "array([  35.40285714, 3236.12142857,   21.04857143])"
      ]
     },
     "execution_count": 65,
     "metadata": {},
     "output_type": "execute_result"
    }
   ],
   "source": [
    "imputer.statistics_"
   ]
  },
  {
   "cell_type": "code",
   "execution_count": 68,
   "id": "2d66ca68",
   "metadata": {},
   "outputs": [
    {
     "name": "stderr",
     "output_type": "stream",
     "text": [
      "/home/ec2-user/anaconda3/envs/python3/lib/python3.8/site-packages/sklearn/base.py:445: UserWarning: X does not have valid feature names, but SimpleImputer was fitted with feature names\n",
      "  warnings.warn(\n"
     ]
    },
    {
     "data": {
      "text/plain": [
       "array([[  24.        , 1000.        ,   21.04857143],\n",
       "       [  35.40285714, 3236.12142857,   12.        ]])"
      ]
     },
     "execution_count": 68,
     "metadata": {},
     "output_type": "execute_result"
    }
   ],
   "source": [
    "imputer.transform([[24,1000,np.nan],\n",
    "                 [np.nan,np.nan,12]])"
   ]
  },
  {
   "cell_type": "code",
   "execution_count": 70,
   "id": "51b63df1",
   "metadata": {},
   "outputs": [
    {
     "data": {
      "text/plain": [
       "array([[3.100e+01, 4.473e+03, 3.600e+01],\n",
       "       [4.600e+01, 1.829e+03, 1.500e+01],\n",
       "       [2.700e+01, 7.418e+03, 6.000e+01],\n",
       "       ...,\n",
       "       [6.300e+01, 1.655e+03, 1.200e+01],\n",
       "       [4.900e+01, 2.096e+03, 1.200e+01],\n",
       "       [3.700e+01, 3.676e+03, 6.000e+00]])"
      ]
     },
     "execution_count": 70,
     "metadata": {},
     "output_type": "execute_result"
    }
   ],
   "source": [
    "imputer.fit_transform(X_train)"
   ]
  },
  {
   "cell_type": "code",
   "execution_count": 86,
   "id": "ac95db65",
   "metadata": {},
   "outputs": [],
   "source": [
    "from sklearn.impute import KNNImputer"
   ]
  },
  {
   "cell_type": "code",
   "execution_count": 87,
   "id": "ad7570c0",
   "metadata": {},
   "outputs": [],
   "source": [
    "imputer = KNNImputer(n_neighbors=2)"
   ]
  },
  {
   "cell_type": "code",
   "execution_count": 88,
   "id": "dd601332",
   "metadata": {},
   "outputs": [
    {
     "data": {
      "text/html": [
       "<div>\n",
       "<style scoped>\n",
       "    .dataframe tbody tr th:only-of-type {\n",
       "        vertical-align: middle;\n",
       "    }\n",
       "\n",
       "    .dataframe tbody tr th {\n",
       "        vertical-align: top;\n",
       "    }\n",
       "\n",
       "    .dataframe thead th {\n",
       "        text-align: right;\n",
       "    }\n",
       "</style>\n",
       "<table border=\"1\" class=\"dataframe\">\n",
       "  <thead>\n",
       "    <tr style=\"text-align: right;\">\n",
       "      <th></th>\n",
       "      <th>peso</th>\n",
       "      <th>edad</th>\n",
       "      <th>nota</th>\n",
       "    </tr>\n",
       "  </thead>\n",
       "  <tbody>\n",
       "    <tr>\n",
       "      <th>0</th>\n",
       "      <td>40</td>\n",
       "      <td>19</td>\n",
       "      <td>3.0</td>\n",
       "    </tr>\n",
       "    <tr>\n",
       "      <th>1</th>\n",
       "      <td>42</td>\n",
       "      <td>20</td>\n",
       "      <td>3.1</td>\n",
       "    </tr>\n",
       "    <tr>\n",
       "      <th>2</th>\n",
       "      <td>44</td>\n",
       "      <td>21</td>\n",
       "      <td>NaN</td>\n",
       "    </tr>\n",
       "    <tr>\n",
       "      <th>3</th>\n",
       "      <td>45</td>\n",
       "      <td>23</td>\n",
       "      <td>4.1</td>\n",
       "    </tr>\n",
       "    <tr>\n",
       "      <th>4</th>\n",
       "      <td>39</td>\n",
       "      <td>25</td>\n",
       "      <td>5.0</td>\n",
       "    </tr>\n",
       "    <tr>\n",
       "      <th>5</th>\n",
       "      <td>80</td>\n",
       "      <td>27</td>\n",
       "      <td>NaN</td>\n",
       "    </tr>\n",
       "    <tr>\n",
       "      <th>6</th>\n",
       "      <td>82</td>\n",
       "      <td>30</td>\n",
       "      <td>4.8</td>\n",
       "    </tr>\n",
       "  </tbody>\n",
       "</table>\n",
       "</div>"
      ],
      "text/plain": [
       "   peso  edad  nota\n",
       "0    40    19   3.0\n",
       "1    42    20   3.1\n",
       "2    44    21   NaN\n",
       "3    45    23   4.1\n",
       "4    39    25   5.0\n",
       "5    80    27   NaN\n",
       "6    82    30   4.8"
      ]
     },
     "execution_count": 88,
     "metadata": {},
     "output_type": "execute_result"
    }
   ],
   "source": [
    "d = {'peso': [40, 42,44,45,39,80,82], 'edad': [19,20,21,23,25,27,30], 'nota':[3.0,3.1,None,4.1,5.0,None,4.8]}\n",
    "dfs = pd.DataFrame(data=d)\n",
    "dfs"
   ]
  },
  {
   "cell_type": "code",
   "execution_count": 89,
   "id": "62fc6ef3",
   "metadata": {},
   "outputs": [
    {
     "data": {
      "text/plain": [
       "array([[40.  , 19.  ,  3.  ],\n",
       "       [42.  , 20.  ,  3.1 ],\n",
       "       [44.  , 21.  ,  3.6 ],\n",
       "       [45.  , 23.  ,  4.1 ],\n",
       "       [39.  , 25.  ,  5.  ],\n",
       "       [80.  , 27.  ,  4.45],\n",
       "       [82.  , 30.  ,  4.8 ]])"
      ]
     },
     "execution_count": 89,
     "metadata": {},
     "output_type": "execute_result"
    }
   ],
   "source": [
    "result = imputer.fit_transform(dfs)\n",
    "result"
   ]
  },
  {
   "cell_type": "code",
   "execution_count": 91,
   "id": "edcb79ab",
   "metadata": {},
   "outputs": [],
   "source": [
    "from sklearn.preprocessing import StandardScaler, RobustScaler"
   ]
  },
  {
   "cell_type": "code",
   "execution_count": 94,
   "id": "8f04459a",
   "metadata": {},
   "outputs": [],
   "source": [
    "scaler = StandardScaler()"
   ]
  },
  {
   "cell_type": "code",
   "execution_count": 96,
   "id": "dbfbd194",
   "metadata": {},
   "outputs": [
    {
     "data": {
      "text/plain": [
       "StandardScaler()"
      ]
     },
     "execution_count": 96,
     "metadata": {},
     "output_type": "execute_result"
    }
   ],
   "source": [
    "scaler.fit(X_train[['Age']])"
   ]
  },
  {
   "cell_type": "code",
   "execution_count": 99,
   "id": "d514b05d",
   "metadata": {},
   "outputs": [
    {
     "data": {
      "text/plain": [
       "array([35.40285714])"
      ]
     },
     "execution_count": 99,
     "metadata": {},
     "output_type": "execute_result"
    }
   ],
   "source": [
    "scaler.mean_"
   ]
  },
  {
   "cell_type": "code",
   "execution_count": 101,
   "id": "a6bebad7",
   "metadata": {},
   "outputs": [
    {
     "data": {
      "text/plain": [
       "array([11.23479253])"
      ]
     },
     "execution_count": 101,
     "metadata": {},
     "output_type": "execute_result"
    }
   ],
   "source": [
    "scaler.var_**0.5"
   ]
  },
  {
   "cell_type": "code",
   "execution_count": 102,
   "id": "b08d4cbb",
   "metadata": {},
   "outputs": [
    {
     "data": {
      "text/plain": [
       "array([[-0.39189483],\n",
       "       [ 0.94324331],\n",
       "       [-0.74793167],\n",
       "       [-0.74793167],\n",
       "       [-0.74793167],\n",
       "       [ 0.05315121],\n",
       "       [-0.035858  ],\n",
       "       [-1.0149593 ],\n",
       "       [-0.48090404],\n",
       "       [ 1.12126173],\n",
       "       [-0.48090404],\n",
       "       [-1.28198693],\n",
       "       [ 1.65531698],\n",
       "       [-1.10396851],\n",
       "       [-0.65892246],\n",
       "       [-0.65892246],\n",
       "       [ 1.29928014],\n",
       "       [ 1.03225252],\n",
       "       [-0.74793167],\n",
       "       [ 1.8333354 ],\n",
       "       [ 2.27838145],\n",
       "       [ 1.12126173],\n",
       "       [-0.21387641],\n",
       "       [-0.83694088],\n",
       "       [ 0.58720647],\n",
       "       [ 1.03225252],\n",
       "       [-0.74793167],\n",
       "       [ 1.38828935],\n",
       "       [-0.74793167],\n",
       "       [-0.035858  ],\n",
       "       [ 2.27838145],\n",
       "       [ 1.74432619],\n",
       "       [ 0.23116963],\n",
       "       [ 0.32017884],\n",
       "       [ 0.05315121],\n",
       "       [-0.65892246],\n",
       "       [-0.92595009],\n",
       "       [-0.035858  ],\n",
       "       [ 1.38828935],\n",
       "       [ 0.23116963],\n",
       "       [ 0.05315121],\n",
       "       [-1.10396851],\n",
       "       [-0.39189483],\n",
       "       [-0.92595009],\n",
       "       [ 0.40918805],\n",
       "       [-0.56991325],\n",
       "       [ 1.21027093],\n",
       "       [-0.65892246],\n",
       "       [-0.12486721],\n",
       "       [-0.74793167],\n",
       "       [ 0.94324331],\n",
       "       [ 0.32017884],\n",
       "       [-1.37099614],\n",
       "       [ 0.40918805],\n",
       "       [-0.56991325],\n",
       "       [-0.83694088],\n",
       "       [ 1.56630777],\n",
       "       [-1.19297772],\n",
       "       [-0.39189483],\n",
       "       [-0.48090404],\n",
       "       [ 0.05315121],\n",
       "       [ 1.47729856],\n",
       "       [ 0.67621568],\n",
       "       [-0.56991325],\n",
       "       [-0.035858  ],\n",
       "       [ 0.94324331],\n",
       "       [-1.0149593 ],\n",
       "       [ 0.23116963],\n",
       "       [-0.30288562],\n",
       "       [ 0.8542341 ],\n",
       "       [ 0.40918805],\n",
       "       [-0.30288562],\n",
       "       [ 0.58720647],\n",
       "       [ 1.29928014],\n",
       "       [-0.83694088],\n",
       "       [-1.0149593 ],\n",
       "       [ 0.58720647],\n",
       "       [ 1.29928014],\n",
       "       [ 0.14216042],\n",
       "       [-0.65892246],\n",
       "       [-0.035858  ],\n",
       "       [-0.65892246],\n",
       "       [-0.39189483],\n",
       "       [-1.37099614],\n",
       "       [-0.74793167],\n",
       "       [-0.30288562],\n",
       "       [ 1.74432619],\n",
       "       [ 0.49819726],\n",
       "       [ 0.76522489],\n",
       "       [-0.035858  ],\n",
       "       [-0.56991325],\n",
       "       [-0.65892246],\n",
       "       [-0.92595009],\n",
       "       [-0.56991325],\n",
       "       [-0.30288562],\n",
       "       [-0.30288562],\n",
       "       [ 0.58720647],\n",
       "       [ 0.58720647],\n",
       "       [-0.56991325],\n",
       "       [-0.83694088],\n",
       "       [-0.30288562],\n",
       "       [ 0.32017884],\n",
       "       [-0.035858  ],\n",
       "       [-1.19297772],\n",
       "       [-0.21387641],\n",
       "       [-1.0149593 ],\n",
       "       [ 0.23116963],\n",
       "       [-0.74793167],\n",
       "       [-0.74793167],\n",
       "       [-0.39189483],\n",
       "       [-1.0149593 ],\n",
       "       [ 0.32017884],\n",
       "       [-0.83694088],\n",
       "       [ 0.23116963],\n",
       "       [ 0.05315121],\n",
       "       [-0.21387641],\n",
       "       [-0.74793167],\n",
       "       [-0.035858  ],\n",
       "       [ 2.18937224],\n",
       "       [ 0.32017884],\n",
       "       [-0.035858  ],\n",
       "       [-0.48090404],\n",
       "       [-0.12486721],\n",
       "       [ 0.49819726],\n",
       "       [-0.65892246],\n",
       "       [-0.92595009],\n",
       "       [ 0.8542341 ],\n",
       "       [-0.12486721],\n",
       "       [-0.92595009],\n",
       "       [-1.0149593 ],\n",
       "       [ 1.03225252],\n",
       "       [-0.12486721],\n",
       "       [-0.48090404],\n",
       "       [-0.21387641],\n",
       "       [ 0.14216042],\n",
       "       [-0.21387641],\n",
       "       [-0.21387641],\n",
       "       [-1.0149593 ],\n",
       "       [ 2.27838145],\n",
       "       [ 0.05315121],\n",
       "       [-1.19297772],\n",
       "       [-0.74793167],\n",
       "       [ 0.23116963],\n",
       "       [-1.0149593 ],\n",
       "       [-0.83694088],\n",
       "       [ 1.03225252],\n",
       "       [-1.10396851],\n",
       "       [-0.21387641],\n",
       "       [ 1.74432619],\n",
       "       [-0.12486721],\n",
       "       [ 0.67621568],\n",
       "       [-0.74793167],\n",
       "       [-0.74793167],\n",
       "       [ 0.76522489],\n",
       "       [-1.10396851],\n",
       "       [ 1.38828935],\n",
       "       [-0.83694088],\n",
       "       [ 0.94324331],\n",
       "       [-1.0149593 ],\n",
       "       [ 0.8542341 ],\n",
       "       [ 0.32017884],\n",
       "       [-0.39189483],\n",
       "       [ 1.12126173],\n",
       "       [ 0.14216042],\n",
       "       [-1.10396851],\n",
       "       [-0.12486721],\n",
       "       [ 0.76522489],\n",
       "       [ 0.67621568],\n",
       "       [-1.10396851],\n",
       "       [-0.48090404],\n",
       "       [-0.56991325],\n",
       "       [-0.56991325],\n",
       "       [-1.19297772],\n",
       "       [ 1.74432619],\n",
       "       [ 2.18937224],\n",
       "       [ 0.14216042],\n",
       "       [ 2.18937224],\n",
       "       [-0.48090404],\n",
       "       [ 0.49819726],\n",
       "       [ 0.40918805],\n",
       "       [ 2.72342749],\n",
       "       [-0.92595009],\n",
       "       [-0.12486721],\n",
       "       [-1.10396851],\n",
       "       [ 0.32017884],\n",
       "       [ 0.32017884],\n",
       "       [-0.56991325],\n",
       "       [ 0.40918805],\n",
       "       [ 1.56630777],\n",
       "       [-0.035858  ],\n",
       "       [-1.10396851],\n",
       "       [ 0.32017884],\n",
       "       [ 1.03225252],\n",
       "       [-0.56991325],\n",
       "       [ 0.49819726],\n",
       "       [-1.0149593 ],\n",
       "       [-0.83694088],\n",
       "       [ 1.12126173],\n",
       "       [ 0.14216042],\n",
       "       [-0.92595009],\n",
       "       [-1.0149593 ],\n",
       "       [ 1.21027093],\n",
       "       [-0.92595009],\n",
       "       [ 0.05315121],\n",
       "       [ 0.32017884],\n",
       "       [ 0.76522489],\n",
       "       [ 2.72342749],\n",
       "       [ 0.40918805],\n",
       "       [ 0.14216042],\n",
       "       [ 2.36739066],\n",
       "       [-0.65892246],\n",
       "       [ 1.92234461],\n",
       "       [-1.0149593 ],\n",
       "       [ 0.58720647],\n",
       "       [-0.21387641],\n",
       "       [ 0.32017884],\n",
       "       [-0.12486721],\n",
       "       [ 0.76522489],\n",
       "       [-0.65892246],\n",
       "       [ 2.45639986],\n",
       "       [-0.39189483],\n",
       "       [-1.0149593 ],\n",
       "       [-0.035858  ],\n",
       "       [-0.035858  ],\n",
       "       [-0.92595009],\n",
       "       [ 1.65531698],\n",
       "       [-0.21387641],\n",
       "       [-0.035858  ],\n",
       "       [-0.30288562],\n",
       "       [-0.39189483],\n",
       "       [-0.65892246],\n",
       "       [ 2.90144591],\n",
       "       [ 1.56630777],\n",
       "       [-0.30288562],\n",
       "       [ 0.40918805],\n",
       "       [-1.37099614],\n",
       "       [-1.10396851],\n",
       "       [ 1.92234461],\n",
       "       [ 2.63441828],\n",
       "       [ 0.8542341 ],\n",
       "       [-0.92595009],\n",
       "       [-0.74793167],\n",
       "       [ 1.29928014],\n",
       "       [ 2.10036303],\n",
       "       [-1.10396851],\n",
       "       [ 0.40918805],\n",
       "       [-0.92595009],\n",
       "       [-1.10396851],\n",
       "       [-0.48090404],\n",
       "       [-0.92595009],\n",
       "       [-0.39189483],\n",
       "       [-0.48090404],\n",
       "       [ 0.40918805],\n",
       "       [ 1.92234461],\n",
       "       [-0.92595009],\n",
       "       [-1.28198693],\n",
       "       [ 0.49819726],\n",
       "       [-0.035858  ],\n",
       "       [-0.74793167],\n",
       "       [ 0.32017884],\n",
       "       [-1.10396851],\n",
       "       [ 0.32017884],\n",
       "       [ 1.29928014],\n",
       "       [ 1.47729856],\n",
       "       [ 0.67621568],\n",
       "       [-1.0149593 ],\n",
       "       [-0.92595009],\n",
       "       [-1.10396851],\n",
       "       [-1.19297772],\n",
       "       [ 0.49819726],\n",
       "       [-0.48090404],\n",
       "       [-1.10396851],\n",
       "       [-0.12486721],\n",
       "       [-0.12486721],\n",
       "       [-0.39189483],\n",
       "       [ 0.40918805],\n",
       "       [-0.56991325],\n",
       "       [-0.65892246],\n",
       "       [ 2.18937224],\n",
       "       [ 1.56630777],\n",
       "       [-1.0149593 ],\n",
       "       [ 0.05315121],\n",
       "       [ 0.76522489],\n",
       "       [ 2.72342749],\n",
       "       [-0.48090404],\n",
       "       [ 2.54540907],\n",
       "       [-0.30288562],\n",
       "       [-1.28198693],\n",
       "       [-0.65892246],\n",
       "       [-0.48090404],\n",
       "       [ 0.40918805],\n",
       "       [-0.83694088],\n",
       "       [-0.48090404],\n",
       "       [ 0.8542341 ],\n",
       "       [-1.0149593 ],\n",
       "       [ 0.67621568],\n",
       "       [-1.37099614],\n",
       "       [-0.30288562],\n",
       "       [-1.37099614],\n",
       "       [-0.92595009],\n",
       "       [-1.10396851],\n",
       "       [-0.48090404],\n",
       "       [-1.10396851],\n",
       "       [ 0.14216042],\n",
       "       [-0.48090404],\n",
       "       [-0.12486721],\n",
       "       [ 0.94324331],\n",
       "       [-1.0149593 ],\n",
       "       [ 1.8333354 ],\n",
       "       [-0.74793167],\n",
       "       [-1.19297772],\n",
       "       [-0.035858  ],\n",
       "       [ 1.21027093],\n",
       "       [-0.83694088],\n",
       "       [-0.30288562],\n",
       "       [-0.65892246],\n",
       "       [-0.12486721],\n",
       "       [ 0.94324331],\n",
       "       [ 0.05315121],\n",
       "       [-0.21387641],\n",
       "       [-0.39189483],\n",
       "       [-0.30288562],\n",
       "       [-0.83694088],\n",
       "       [-0.21387641],\n",
       "       [ 0.58720647],\n",
       "       [ 0.8542341 ],\n",
       "       [ 0.67621568],\n",
       "       [-0.30288562],\n",
       "       [ 0.14216042],\n",
       "       [-0.30288562],\n",
       "       [-0.21387641],\n",
       "       [-0.83694088],\n",
       "       [-1.37099614],\n",
       "       [ 0.94324331],\n",
       "       [ 0.76522489],\n",
       "       [-0.74793167],\n",
       "       [-0.65892246],\n",
       "       [-1.10396851],\n",
       "       [-0.74793167],\n",
       "       [ 1.12126173],\n",
       "       [-0.65892246],\n",
       "       [ 0.67621568],\n",
       "       [-0.65892246],\n",
       "       [-1.10396851],\n",
       "       [-0.83694088],\n",
       "       [-0.21387641],\n",
       "       [-0.74793167],\n",
       "       [-0.56991325],\n",
       "       [-0.12486721],\n",
       "       [-0.48090404],\n",
       "       [-0.30288562],\n",
       "       [-0.21387641],\n",
       "       [-0.035858  ],\n",
       "       [-0.92595009],\n",
       "       [-0.83694088],\n",
       "       [-0.39189483],\n",
       "       [ 0.40918805],\n",
       "       [ 1.38828935],\n",
       "       [-0.83694088],\n",
       "       [ 0.14216042],\n",
       "       [-0.48090404],\n",
       "       [ 0.23116963],\n",
       "       [ 2.27838145],\n",
       "       [-1.10396851],\n",
       "       [-1.28198693],\n",
       "       [ 0.58720647],\n",
       "       [-0.30288562],\n",
       "       [ 0.40918805],\n",
       "       [ 2.45639986],\n",
       "       [-0.56991325],\n",
       "       [-0.39189483],\n",
       "       [ 0.05315121],\n",
       "       [-0.83694088],\n",
       "       [-0.83694088],\n",
       "       [-0.30288562],\n",
       "       [ 0.58720647],\n",
       "       [ 2.10036303],\n",
       "       [-0.65892246],\n",
       "       [-0.30288562],\n",
       "       [-0.92595009],\n",
       "       [ 3.43550117],\n",
       "       [-0.74793167],\n",
       "       [-1.0149593 ],\n",
       "       [ 0.14216042],\n",
       "       [-1.28198693],\n",
       "       [-1.0149593 ],\n",
       "       [-1.19297772],\n",
       "       [ 0.94324331],\n",
       "       [ 0.40918805],\n",
       "       [ 1.12126173],\n",
       "       [ 0.23116963],\n",
       "       [ 0.76522489],\n",
       "       [ 0.40918805],\n",
       "       [-0.56991325],\n",
       "       [-1.0149593 ],\n",
       "       [-1.19297772],\n",
       "       [-0.92595009],\n",
       "       [-0.48090404],\n",
       "       [-0.74793167],\n",
       "       [ 0.76522489],\n",
       "       [-0.83694088],\n",
       "       [-1.10396851],\n",
       "       [-0.39189483],\n",
       "       [-0.74793167],\n",
       "       [-0.48090404],\n",
       "       [-0.30288562],\n",
       "       [-0.39189483],\n",
       "       [ 1.47729856],\n",
       "       [-0.92595009],\n",
       "       [ 0.23116963],\n",
       "       [ 0.05315121],\n",
       "       [-0.83694088],\n",
       "       [-1.10396851],\n",
       "       [ 0.58720647],\n",
       "       [-0.56991325],\n",
       "       [ 0.05315121],\n",
       "       [ 2.36739066],\n",
       "       [ 2.01135382],\n",
       "       [ 0.94324331],\n",
       "       [ 1.03225252],\n",
       "       [-0.39189483],\n",
       "       [-0.92595009],\n",
       "       [-0.48090404],\n",
       "       [ 2.54540907],\n",
       "       [ 0.49819726],\n",
       "       [-0.56991325],\n",
       "       [ 2.90144591],\n",
       "       [-0.83694088],\n",
       "       [ 2.72342749],\n",
       "       [-1.0149593 ],\n",
       "       [ 3.07946433],\n",
       "       [ 1.65531698],\n",
       "       [-1.10396851],\n",
       "       [-0.035858  ],\n",
       "       [-0.65892246],\n",
       "       [ 0.14216042],\n",
       "       [-0.74793167],\n",
       "       [ 0.8542341 ],\n",
       "       [-0.83694088],\n",
       "       [-0.74793167],\n",
       "       [-1.10396851],\n",
       "       [-1.0149593 ],\n",
       "       [ 0.40918805],\n",
       "       [-0.30288562],\n",
       "       [-0.83694088],\n",
       "       [ 0.40918805],\n",
       "       [-1.19297772],\n",
       "       [-0.74793167],\n",
       "       [-0.12486721],\n",
       "       [ 0.05315121],\n",
       "       [ 1.03225252],\n",
       "       [ 0.76522489],\n",
       "       [-0.74793167],\n",
       "       [-0.39189483],\n",
       "       [ 1.03225252],\n",
       "       [-1.10396851],\n",
       "       [-0.035858  ],\n",
       "       [-0.30288562],\n",
       "       [-0.035858  ],\n",
       "       [-0.74793167],\n",
       "       [-0.65892246],\n",
       "       [-0.92595009],\n",
       "       [-0.56991325],\n",
       "       [ 0.94324331],\n",
       "       [ 0.23116963],\n",
       "       [ 0.58720647],\n",
       "       [ 1.21027093],\n",
       "       [-1.10396851],\n",
       "       [ 1.29928014],\n",
       "       [ 0.8542341 ],\n",
       "       [ 2.01135382],\n",
       "       [ 3.52451038],\n",
       "       [ 0.76522489],\n",
       "       [ 0.23116963],\n",
       "       [-0.30288562],\n",
       "       [-0.48090404],\n",
       "       [-1.10396851],\n",
       "       [-0.65892246],\n",
       "       [ 1.29928014],\n",
       "       [-0.74793167],\n",
       "       [ 1.47729856],\n",
       "       [ 2.27838145],\n",
       "       [-0.21387641],\n",
       "       [-1.19297772],\n",
       "       [-1.19297772],\n",
       "       [ 2.45639986],\n",
       "       [-0.74793167],\n",
       "       [-0.92595009],\n",
       "       [ 0.58720647],\n",
       "       [-0.035858  ],\n",
       "       [-0.92595009],\n",
       "       [-1.0149593 ],\n",
       "       [-0.65892246],\n",
       "       [-1.37099614],\n",
       "       [-0.30288562],\n",
       "       [ 2.45639986],\n",
       "       [ 0.8542341 ],\n",
       "       [ 2.18937224],\n",
       "       [-0.48090404],\n",
       "       [-0.39189483],\n",
       "       [ 0.49819726],\n",
       "       [ 1.65531698],\n",
       "       [-1.19297772],\n",
       "       [-0.74793167],\n",
       "       [-0.035858  ],\n",
       "       [-1.0149593 ],\n",
       "       [-0.39189483],\n",
       "       [-0.83694088],\n",
       "       [-0.74793167],\n",
       "       [-1.10396851],\n",
       "       [ 0.67621568],\n",
       "       [-0.39189483],\n",
       "       [-1.28198693],\n",
       "       [ 0.05315121],\n",
       "       [-0.65892246],\n",
       "       [ 0.05315121],\n",
       "       [-1.0149593 ],\n",
       "       [ 0.23116963],\n",
       "       [ 0.23116963],\n",
       "       [ 0.23116963],\n",
       "       [-0.74793167],\n",
       "       [ 0.23116963],\n",
       "       [-0.21387641],\n",
       "       [-1.19297772],\n",
       "       [-0.035858  ],\n",
       "       [ 0.94324331],\n",
       "       [-0.12486721],\n",
       "       [-1.19297772],\n",
       "       [ 0.94324331],\n",
       "       [-1.19297772],\n",
       "       [-0.83694088],\n",
       "       [-0.92595009],\n",
       "       [ 1.92234461],\n",
       "       [-0.83694088],\n",
       "       [ 1.65531698],\n",
       "       [-0.83694088],\n",
       "       [-0.48090404],\n",
       "       [-0.74793167],\n",
       "       [-0.65892246],\n",
       "       [-0.30288562],\n",
       "       [-1.0149593 ],\n",
       "       [ 2.10036303],\n",
       "       [-1.0149593 ],\n",
       "       [ 0.14216042],\n",
       "       [-0.92595009],\n",
       "       [-0.035858  ],\n",
       "       [-0.83694088],\n",
       "       [-0.48090404],\n",
       "       [ 0.58720647],\n",
       "       [ 2.01135382],\n",
       "       [-0.12486721],\n",
       "       [-0.74793167],\n",
       "       [-0.12486721],\n",
       "       [-1.19297772],\n",
       "       [-1.19297772],\n",
       "       [-0.035858  ],\n",
       "       [ 0.94324331],\n",
       "       [ 0.32017884],\n",
       "       [ 0.67621568],\n",
       "       [ 1.21027093],\n",
       "       [-0.92595009],\n",
       "       [-1.28198693],\n",
       "       [-0.39189483],\n",
       "       [-1.0149593 ],\n",
       "       [-0.21387641],\n",
       "       [ 0.67621568],\n",
       "       [ 1.03225252],\n",
       "       [ 1.03225252],\n",
       "       [-0.39189483],\n",
       "       [ 0.05315121],\n",
       "       [ 0.49819726],\n",
       "       [-0.48090404],\n",
       "       [ 2.72342749],\n",
       "       [-0.035858  ],\n",
       "       [ 0.58720647],\n",
       "       [-0.12486721],\n",
       "       [ 0.49819726],\n",
       "       [-0.83694088],\n",
       "       [-1.19297772],\n",
       "       [ 0.05315121],\n",
       "       [ 0.14216042],\n",
       "       [ 0.23116963],\n",
       "       [-1.10396851],\n",
       "       [ 0.94324331],\n",
       "       [ 0.05315121],\n",
       "       [ 0.14216042],\n",
       "       [-0.48090404],\n",
       "       [-1.19297772],\n",
       "       [ 0.14216042],\n",
       "       [ 0.23116963],\n",
       "       [-0.21387641],\n",
       "       [ 0.05315121],\n",
       "       [-0.83694088],\n",
       "       [-0.65892246],\n",
       "       [ 0.23116963],\n",
       "       [-0.39189483],\n",
       "       [ 0.58720647],\n",
       "       [ 1.38828935],\n",
       "       [-0.21387641],\n",
       "       [-0.30288562],\n",
       "       [-0.12486721],\n",
       "       [-0.74793167],\n",
       "       [-0.12486721],\n",
       "       [ 1.21027093],\n",
       "       [-0.83694088],\n",
       "       [ 0.14216042],\n",
       "       [-0.92595009],\n",
       "       [ 0.05315121],\n",
       "       [-0.74793167],\n",
       "       [ 0.49819726],\n",
       "       [-0.74793167],\n",
       "       [-0.21387641],\n",
       "       [-0.21387641],\n",
       "       [ 1.12126173],\n",
       "       [-0.65892246],\n",
       "       [-0.92595009],\n",
       "       [-1.10396851],\n",
       "       [-0.56991325],\n",
       "       [-0.21387641],\n",
       "       [-0.65892246],\n",
       "       [-0.74793167],\n",
       "       [-1.0149593 ],\n",
       "       [-0.12486721],\n",
       "       [-1.19297772],\n",
       "       [ 0.14216042],\n",
       "       [-0.65892246],\n",
       "       [ 0.67621568],\n",
       "       [-1.28198693],\n",
       "       [-1.10396851],\n",
       "       [-1.19297772],\n",
       "       [-0.39189483],\n",
       "       [-0.65892246],\n",
       "       [ 0.58720647],\n",
       "       [ 1.29928014],\n",
       "       [-0.12486721],\n",
       "       [ 2.63441828],\n",
       "       [ 1.74432619],\n",
       "       [ 2.54540907],\n",
       "       [ 0.67621568],\n",
       "       [-0.56991325],\n",
       "       [ 1.29928014],\n",
       "       [-0.39189483],\n",
       "       [-0.56991325],\n",
       "       [-0.30288562],\n",
       "       [-0.21387641],\n",
       "       [-1.37099614],\n",
       "       [-0.56991325],\n",
       "       [-0.56991325],\n",
       "       [-1.37099614],\n",
       "       [-0.035858  ],\n",
       "       [ 1.21027093],\n",
       "       [-0.56991325],\n",
       "       [-0.39189483],\n",
       "       [-0.92595009],\n",
       "       [-0.035858  ],\n",
       "       [-0.65892246],\n",
       "       [-1.37099614],\n",
       "       [ 1.21027093],\n",
       "       [ 2.90144591],\n",
       "       [-1.10396851],\n",
       "       [-0.56991325],\n",
       "       [-0.30288562],\n",
       "       [-0.48090404],\n",
       "       [ 0.32017884],\n",
       "       [ 2.63441828],\n",
       "       [ 0.40918805],\n",
       "       [ 0.76522489],\n",
       "       [-0.56991325],\n",
       "       [ 2.8124367 ],\n",
       "       [-1.37099614],\n",
       "       [-0.12486721],\n",
       "       [-0.48090404],\n",
       "       [-0.48090404],\n",
       "       [-1.10396851],\n",
       "       [ 1.21027093],\n",
       "       [-0.74793167],\n",
       "       [ 1.21027093],\n",
       "       [-0.035858  ],\n",
       "       [ 1.12126173],\n",
       "       [ 1.74432619],\n",
       "       [-1.19297772],\n",
       "       [ 0.40918805],\n",
       "       [-0.56991325],\n",
       "       [ 3.52451038],\n",
       "       [ 0.14216042],\n",
       "       [ 1.47729856],\n",
       "       [-0.65892246],\n",
       "       [ 2.01135382],\n",
       "       [-0.12486721],\n",
       "       [-0.48090404],\n",
       "       [ 0.14216042],\n",
       "       [-0.65892246],\n",
       "       [-0.83694088],\n",
       "       [ 0.05315121],\n",
       "       [ 0.14216042],\n",
       "       [ 0.49819726],\n",
       "       [-0.65892246],\n",
       "       [ 2.45639986],\n",
       "       [ 1.21027093],\n",
       "       [ 0.14216042]])"
      ]
     },
     "execution_count": 102,
     "metadata": {},
     "output_type": "execute_result"
    }
   ],
   "source": [
    "scaler.transform(X_train[['Age']])"
   ]
  }
 ],
 "metadata": {
  "kernelspec": {
   "display_name": "conda_python3",
   "language": "python",
   "name": "conda_python3"
  },
  "language_info": {
   "codemirror_mode": {
    "name": "ipython",
    "version": 3
   },
   "file_extension": ".py",
   "mimetype": "text/x-python",
   "name": "python",
   "nbconvert_exporter": "python",
   "pygments_lexer": "ipython3",
   "version": "3.8.12"
  }
 },
 "nbformat": 4,
 "nbformat_minor": 5
}
